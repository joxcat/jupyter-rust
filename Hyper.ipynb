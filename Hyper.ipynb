{
 "cells": [
  {
   "cell_type": "markdown",
   "metadata": {},
   "source": [
    "Rust tips\n",
    "\n",
    "# Hyper\n",
    "\n",
    "[Johan Planchon](https://github.com/joxcat/)\n",
    "\n",
    "## Dépendances\n",
    "\n",
    "- [tokio](https://docs.rs/tokio/0.2.13/tokio/)\n",
    "- [hyper](https://docs.rs/hyper/0.13.4/hyper/)"
   ]
  },
  {
   "cell_type": "markdown",
   "metadata": {},
   "source": [
    "## Lancer une fonction async sans #[tokio::main]\n",
    "*`#[tokio::main]` requiert la \"feature\" 'macros' de tokio*\n",
    "\n",
    "**Tips:** pour utiliser tokio sur du multi-threads pensez à la \"feature\" `rt-threaded`"
   ]
  },
  {
   "cell_type": "code",
   "execution_count": 2,
   "metadata": {},
   "outputs": [],
   "source": [
    ":dep tokio = { version = \"0.2\", default_features = false, features = [\"macros\"] }"
   ]
  },
  {
   "cell_type": "markdown",
   "metadata": {},
   "source": [
    "### Version avec #[tokio::main]"
   ]
  },
  {
   "cell_type": "code",
   "execution_count": 3,
   "metadata": {},
   "outputs": [],
   "source": [
    "#[tokio::main]\n",
    "async fn main() -> &'static str {\n",
    "    hello_world().await\n",
    "}\n",
    "\n",
    "async fn hello_world() -> &'static str {\n",
    "    \"Hello World!\"\n",
    "}"
   ]
  },
  {
   "cell_type": "markdown",
   "metadata": {},
   "source": [
    "### Version sans #[tokio::main]\n",
    "Doc: [tokio::runtime::Runtime](https://docs.rs/tokio/0.2.13/tokio/runtime/struct.Runtime.html)"
   ]
  },
  {
   "cell_type": "code",
   "execution_count": 5,
   "metadata": {},
   "outputs": [],
   "source": [
    "use tokio::runtime::Runtime;\n",
    "\n",
    "fn main() -> &'static str {\n",
    "    let mut rt = Runtime::new().expect(\"Cannot create tokio runtime\");\n",
    "    rt.block_on(hello_world())\n",
    "}\n",
    "async fn hello_world() -> &'static str {\n",
    "    \"Hello World!\"\n",
    "}"
   ]
  }
 ],
 "metadata": {
  "kernelspec": {
   "display_name": "Rust",
   "language": "rust",
   "name": "rust"
  },
  "language_info": {
   "codemirror_mode": "rust",
   "file_extension": ".rs",
   "mimetype": "text/rust",
   "name": "Rust",
   "pygment_lexer": "rust",
   "version": ""
  }
 },
 "nbformat": 4,
 "nbformat_minor": 4
}
